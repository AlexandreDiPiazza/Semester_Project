{
 "cells": [
  {
   "cell_type": "code",
   "execution_count": 10,
   "id": "884a92fb",
   "metadata": {},
   "outputs": [],
   "source": [
    "import numpy as np\n",
    "from utils.mosaic import *\n",
    "from utils.lines import *"
   ]
  },
  {
   "cell_type": "code",
   "execution_count": 2,
   "id": "312dac03",
   "metadata": {},
   "outputs": [],
   "source": [
    "import cv2"
   ]
  },
  {
   "cell_type": "code",
   "execution_count": 7,
   "id": "e06bd856",
   "metadata": {},
   "outputs": [],
   "source": [
    "import math\n",
    "import random\n",
    "import operator\n",
    "import matplotlib.pyplot as plt "
   ]
  },
  {
   "cell_type": "code",
   "execution_count": 232,
   "id": "570177cb",
   "metadata": {},
   "outputs": [],
   "source": [
    "random.seed(1)\n",
    "subh, subw = 256, 256"
   ]
  },
  {
   "cell_type": "code",
   "execution_count": 253,
   "id": "f6addd5f",
   "metadata": {},
   "outputs": [
    {
     "name": "stdout",
     "output_type": "stream",
     "text": [
      "(44, 44, 3)\n",
      "(-8169, 5757)\n",
      "(44, 44, 3)\n",
      "0.0\n"
     ]
    }
   ],
   "source": [
    "mask = np.full(shape = (256,256),fill_value =  0.)\n",
    "s_length = random.randint(20,60) # chose the length of the streak\n",
    "s_width = random.randint(3,5) # chose the width of the streak\n",
    "theta = random.randint(0,179) * math.pi / 180.\n",
    "x_where, y_where = random.randint(0, subh-s_length-1), random.randint(0,subw-s_length-1) \n",
    "_,p1,p2 = get_points(0,theta)\n",
    "sat_line = np.zeros((s_length,s_length,3)).astype(np.uint8)\n",
    "print(sat_line.shape)\n",
    "sat_line = cv2.line(sat_line, tuple(map(operator.add, p1,(int(s_length/2),int(s_length/2)))),tuple(map(operator.add, p2,(int(s_length/2),int(s_length/2)))), (255,255,255), s_width)\n",
    "print(tuple(map(operator.add, p1,(int(s_length/2),int(s_length/2)))))\n",
    "print(sat_line.shape)\n",
    "h_sat,w_sat,_ = sat_line.shape\n",
    "cx,cy = float(h_sat//2), float(w_sat//2)\n",
    "r = min(cx,cy)\n",
    "for a in range(h_sat):\n",
    "    for b in range(w_sat):\n",
    "        if math.sqrt((a - cx)**2 + (b-cy)**2) > r:\n",
    "            sat_line[a,b] = 0\n",
    "           \n",
    "    \n",
    "dipasse = np.zeros(shape=(s_length,s_length))\n",
    "for i in range(s_length) : \n",
    "    for j in range(s_length) : \n",
    "        mean = int(s_length/2 - 1)\n",
    "        \n",
    "        x = -mean + j \n",
    "        y = -mean + i \n",
    "    \n",
    "        dist = np.sqrt(x**2 + y**2) / (np.sqrt(2*mean**2)) \n",
    "        #print(dist)\n",
    "        if i == mean and j == mean : \n",
    "            print(dist)\n",
    "        #print(new_y)\n",
    "        if sat_line[i,j,0] != 0 : \n",
    "            #print(sat_line[i,j,0])\n",
    "            new_value = sat_line[i,j,0] - ((255-100)*dist)\n",
    "        else : \n",
    "            new_value = 0\n",
    "        \n",
    "        dipasse[i,j] = new_value            \n",
    " \n",
    "        \n",
    "final_synth = cv2.GaussianBlur(dipasse/255,(s_width*2-1,s_width*2-1),0)\n",
    "#final_synth = cv2.GaussianBlur(sat_line[:,:,0]/255,(s_width*2-1,s_width*2-1),0)\n",
    "alpha_trans = random.randint(75,95)/100. # opacity of the streak\n",
    "final_synth = (final_synth / np.max(final_synth))\n",
    "mask[x_where:x_where+s_length, y_where:y_where+s_length] = final_synth\n"
   ]
  },
  {
   "cell_type": "code",
   "execution_count": 258,
   "id": "62024673",
   "metadata": {},
   "outputs": [
    {
     "data": {
      "text/plain": [
       "<matplotlib.image.AxesImage at 0x1b10da35470>"
      ]
     },
     "execution_count": 258,
     "metadata": {},
     "output_type": "execute_result"
    },
    {
     "data": {
      "image/png": "[encoded data removed]",
      "text/plain": [
       "<Figure size 432x288 with 1 Axes>"
      ]
     },
     "metadata": {
      "needs_background": "light"
     },
     "output_type": "display_data"
    }
   ],
   "source": [
    "plt.imshow(final_synth)"
   ]
  }
 ],
 "metadata": {
  "kernelspec": {
   "display_name": "Python 3",
   "language": "python",
   "name": "python3"
  },
  "language_info": {
   "codemirror_mode": {
    "name": "ipython",
    "version": 3
   },
   "file_extension": ".py",
   "mimetype": "text/x-python",
   "name": "python",
   "nbconvert_exporter": "python",
   "pygments_lexer": "ipython3",
   "version": "3.7.3"
  }
 },
 "nbformat": 4,
 "nbformat_minor": 5
}
