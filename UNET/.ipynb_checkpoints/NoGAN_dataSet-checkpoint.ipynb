{
 "cells": [
  {
   "cell_type": "code",
   "execution_count": 1,
   "id": "351e58cf",
   "metadata": {},
   "outputs": [],
   "source": [
    "import numpy as np \n",
    "datapath = 'trainset/'\n",
    "name = \"test\"\n",
    "name = \"64\""
   ]
  },
  {
   "cell_type": "code",
   "execution_count": 2,
   "id": "2f89297a",
   "metadata": {},
   "outputs": [],
   "source": [
    "# xmages avec valeurs comprises entre 0 et 1.\n",
    "#x_train = np.load(datapath + name + '_samples64.npy', allow_pickle = True)[:,0]\n",
    "#y_train = np.load(datapath +  name + '_targets64.npy', allow_pickle = True)\n",
    "hs = np.load(datapath +  name + '_patch_targets64.npy', allow_pickle = True)"
   ]
  },
  {
   "cell_type": "code",
   "execution_count": 21,
   "id": "de60cf43",
   "metadata": {},
   "outputs": [],
   "source": [
    "X_train_NoGAN = x_train[0:950,:,:]\n",
    "X_train_NoGAN_Valid = x_train[950:1080,:,:]"
   ]
  },
  {
   "cell_type": "code",
   "execution_count": 22,
   "id": "126c0185",
   "metadata": {},
   "outputs": [],
   "source": [
    "Y_train_NoGAN = y_train[0:950,:,:]\n",
    "Y_train_NoGAN_Valid = y_train[950:1080,:,:]"
   ]
  },
  {
   "cell_type": "code",
   "execution_count": 23,
   "id": "675df081",
   "metadata": {},
   "outputs": [],
   "source": [
    "np.save(\"X_Data_NoGAN_CNN.npy\", X_train_NoGAN)\n",
    "np.save(\"X_Data_NoGAN_CNN_valid.npy\", X_train_NoGAN_Valid)\n",
    "np.save(\"Y_Data_NoGAN_CNN.npy\", Y_train_NoGAN)\n",
    "np.save(\"Y_Data_NoGAN_CNN_valid.npy\", Y_train_NoGAN_Valid)"
   ]
  },
  {
   "cell_type": "code",
   "execution_count": null,
   "id": "41ad097f",
   "metadata": {},
   "outputs": [],
   "source": []
  },
  {
   "cell_type": "code",
   "execution_count": null,
   "id": "8c9a2b42",
   "metadata": {},
   "outputs": [],
   "source": []
  },
  {
   "cell_type": "code",
   "execution_count": null,
   "id": "a45e00b3",
   "metadata": {},
   "outputs": [],
   "source": []
  },
  {
   "cell_type": "code",
   "execution_count": null,
   "id": "5c18c30b",
   "metadata": {},
   "outputs": [],
   "source": []
  },
  {
   "cell_type": "code",
   "execution_count": null,
   "id": "30b123fd",
   "metadata": {},
   "outputs": [],
   "source": []
  }
 ],
 "metadata": {
  "kernelspec": {
   "display_name": "Python 3",
   "language": "python",
   "name": "python3"
  },
  "language_info": {
   "codemirror_mode": {
    "name": "ipython",
    "version": 3
   },
   "file_extension": ".py",
   "mimetype": "text/x-python",
   "name": "python",
   "nbconvert_exporter": "python",
   "pygments_lexer": "ipython3",
   "version": "3.7.3"
  }
 },
 "nbformat": 4,
 "nbformat_minor": 5
}
