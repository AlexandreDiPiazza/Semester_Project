{
 "cells": [
  {
   "cell_type": "code",
   "execution_count": 1,
   "id": "25ad88d6",
   "metadata": {},
   "outputs": [],
   "source": [
    "import numpy as np\n",
    "import matplotlib.pyplot as plt "
   ]
  },
  {
   "cell_type": "code",
   "execution_count": 4,
   "id": "7580f75a",
   "metadata": {},
   "outputs": [
    {
     "ename": "SyntaxError",
     "evalue": "EOL while scanning string literal (<ipython-input-4-c9ad98ce54df>, line 24)",
     "output_type": "error",
     "traceback": [
      "\u001b[1;36m  File \u001b[1;32m\"<ipython-input-4-c9ad98ce54df>\"\u001b[1;36m, line \u001b[1;32m24\u001b[0m\n\u001b[1;33m    \"\"\"\"\u001b[0m\n\u001b[1;37m        \n^\u001b[0m\n\u001b[1;31mSyntaxError\u001b[0m\u001b[1;31m:\u001b[0m EOL while scanning string literal\n"
     ]
    }
   ],
   "source": [
    "\"\"\"\"\n",
    "import random\n",
    "import cv2\n",
    "from matplotlib import pyplot as plt\n",
    "import albumentations as A\n",
    "    \n",
    "transform = A.Compose(\n",
    "    [\n",
    "    A.VerticalFlip(p=0.8),\n",
    "    A.HorizontalFlip(p=0.5),\n",
    "    A.ShiftScaleRotate(p=0.6),\n",
    "    ],\n",
    "    additional_targets={'image0': 'image'}\n",
    ")\n",
    "\n",
    "for i in range(16) : \n",
    "    for j in range(np.random.randint(2)+1) :\n",
    "        transformed = transform(image=X_vraie[i,:,:], image0=Y_vraie[i,:,:])\n",
    "        im1 = np.reshape(transformed['image'], newshape = (1,256,256)); \n",
    "        im2 = np.reshape(transformed['image0'], newshape = (1, 256, 256)); \n",
    "        #X_vraie = np.vstack((X_vraie, im1))\n",
    "        X_vraie = np.append(X_vraie, im1, axis = 0)\n",
    "        Y_vraie = np.append(Y_vraie, im2, axis = 0 )\n",
    "\"\"\"\""
   ]
  },
  {
   "cell_type": "code",
   "execution_count": null,
   "id": "3b242286",
   "metadata": {},
   "outputs": [],
   "source": [
    "#I, Epoch, LR, Dropout, Treshold, Dice + std, Accuracy + std, Recall + std, specificity+ std, precision + std, NPV + std"
   ]
  },
  {
   "cell_type": "code",
   "execution_count": 2,
   "id": "32aea9ea",
   "metadata": {},
   "outputs": [],
   "source": [
    "results = np.load(\"all_results_final3.npy\")\n",
    "results = np.delete(results, 0, axis = 0 )"
   ]
  },
  {
   "cell_type": "code",
   "execution_count": null,
   "id": "838f103b",
   "metadata": {},
   "outputs": [],
   "source": [
    "    "
   ]
  },
  {
   "cell_type": "code",
   "execution_count": 3,
   "id": "e068bf8e",
   "metadata": {},
   "outputs": [
    {
     "data": {
      "text/plain": [
       "18"
      ]
     },
     "execution_count": 3,
     "metadata": {},
     "output_type": "execute_result"
    }
   ],
   "source": [
    "## Maximum results\n",
    "np.argmax(results[:,5], axis = 0 )"
   ]
  },
  {
   "cell_type": "code",
   "execution_count": 4,
   "id": "beef0264",
   "metadata": {},
   "outputs": [
    {
     "data": {
      "text/plain": [
       "array([0.00000000e+00, 6.00000000e+01, 1.00000000e-02, 1.00000000e-01,\n",
       "       1.50000000e-01, 5.92260074e-01, 6.02092419e-02, 9.97294108e-01,\n",
       "       4.39612483e-04, 6.14864372e-01, 7.73895647e-02, 9.98725093e-01,\n",
       "       3.92930911e-04, 6.48132772e-01, 6.18664934e-02, 9.98556201e-01,\n",
       "       3.26906488e-04, 4.60000000e+01])"
      ]
     },
     "execution_count": 4,
     "metadata": {},
     "output_type": "execute_result"
    }
   ],
   "source": [
    "results[18,]"
   ]
  },
  {
   "cell_type": "code",
   "execution_count": 6,
   "id": "6e83b39e",
   "metadata": {},
   "outputs": [
    {
     "data": {
      "text/plain": [
       "115"
      ]
     },
     "execution_count": 6,
     "metadata": {},
     "output_type": "execute_result"
    }
   ],
   "source": [
    "# Minimum results\n",
    "np.argmin(results[:,5], axis = 0 )"
   ]
  },
  {
   "cell_type": "code",
   "execution_count": 8,
   "id": "3cbbea7f",
   "metadata": {},
   "outputs": [
    {
     "name": "stdout",
     "output_type": "stream",
     "text": [
      "[2.00000000e+00 4.00000000e+01 5.00000000e-03 1.00000000e-01\n",
      " 2.50000000e-01 3.84031467e-01 1.40843789e-01 9.96897380e-01\n",
      " 4.86691689e-04 3.56185217e-01 1.52659923e-01 9.99482743e-01\n",
      " 4.26343141e-04 5.81488036e-01 1.26396975e-01 9.97406980e-01\n",
      " 6.73761322e-04 2.00000000e+00]\n"
     ]
    }
   ],
   "source": [
    "print(results[115,:])"
   ]
  },
  {
   "cell_type": "code",
   "execution_count": 9,
   "id": "6d1c60af",
   "metadata": {},
   "outputs": [
    {
     "data": {
      "text/plain": [
       "0.5313185106222813"
      ]
     },
     "execution_count": 9,
     "metadata": {},
     "output_type": "execute_result"
    }
   ],
   "source": [
    "np.mean(results[:,5])"
   ]
  },
  {
   "cell_type": "code",
   "execution_count": 10,
   "id": "ad0a5b76",
   "metadata": {},
   "outputs": [],
   "source": [
    "sorted_array = results[np.argsort(results[:, 5],)]"
   ]
  },
  {
   "cell_type": "code",
   "execution_count": null,
   "id": "e85097b5",
   "metadata": {},
   "outputs": [],
   "source": [
    "#I, Epoch, LR, Dropout, Treshold, Dice + std, Accuracy + std, Recall + std, specificity+ std, precision + std, NPV + std"
   ]
  },
  {
   "cell_type": "code",
   "execution_count": 13,
   "id": "b389755b",
   "metadata": {},
   "outputs": [
    {
     "data": {
      "text/plain": [
       "array([1.00000000e+00, 6.00000000e+01, 1.00000000e-02, 2.00000000e-01,\n",
       "       1.50000000e-01, 5.84561657e-01, 2.73908954e-02, 9.97261047e-01,\n",
       "       4.50649434e-04, 6.15057290e-01, 3.30240904e-02, 9.98728524e-01,\n",
       "       4.25749187e-04, 6.51139751e-01, 1.03344447e-01, 9.98520435e-01,\n",
       "       3.47762489e-04, 4.00000000e+00])"
      ]
     },
     "execution_count": 13,
     "metadata": {},
     "output_type": "execute_result"
    }
   ],
   "source": [
    "sorted_array[160]"
   ]
  },
  {
   "cell_type": "code",
   "execution_count": null,
   "id": "483a50b4",
   "metadata": {},
   "outputs": [],
   "source": []
  },
  {
   "cell_type": "code",
   "execution_count": null,
   "id": "23357596",
   "metadata": {},
   "outputs": [],
   "source": []
  },
  {
   "cell_type": "code",
   "execution_count": null,
   "id": "5c7fbb0b",
   "metadata": {},
   "outputs": [],
   "source": []
  },
  {
   "cell_type": "code",
   "execution_count": null,
   "id": "bb9b66c7",
   "metadata": {},
   "outputs": [],
   "source": []
  },
  {
   "cell_type": "code",
   "execution_count": null,
   "id": "d67cf867",
   "metadata": {},
   "outputs": [],
   "source": []
  },
  {
   "cell_type": "code",
   "execution_count": null,
   "id": "ec84d1ce",
   "metadata": {},
   "outputs": [],
   "source": []
  },
  {
   "cell_type": "code",
   "execution_count": null,
   "id": "e9f2a9c4",
   "metadata": {},
   "outputs": [],
   "source": []
  }
 ],
 "metadata": {
  "kernelspec": {
   "display_name": ".test",
   "language": "python",
   "name": ".test"
  },
  "language_info": {
   "codemirror_mode": {
    "name": "ipython",
    "version": 3
   },
   "file_extension": ".py",
   "mimetype": "text/x-python",
   "name": "python",
   "nbconvert_exporter": "python",
   "pygments_lexer": "ipython3",
   "version": "3.7.3"
  }
 },
 "nbformat": 4,
 "nbformat_minor": 5
}
